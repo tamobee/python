{
 "cells": [
  {
   "cell_type": "code",
   "execution_count": 20,
   "id": "foster-court",
   "metadata": {},
   "outputs": [],
   "source": [
    "# Imports\n",
    "import csv\n",
    "from pathlib import Path"
   ]
  },
  {
   "cell_type": "code",
   "execution_count": 21,
   "id": "bound-training",
   "metadata": {},
   "outputs": [
    {
     "name": "stdout",
     "output_type": "stream",
     "text": [
      "Current Working Directory: /Users/tamobee/Desktop/python/PyBank\n"
     ]
    }
   ],
   "source": [
    "# Check the current directory where the Python program is executing from\n",
    "print(f\"Current Working Directory: {Path.cwd()}\")"
   ]
  },
  {
   "cell_type": "code",
   "execution_count": 22,
   "id": "hairy-relative",
   "metadata": {},
   "outputs": [],
   "source": [
    "# Set file path and read csvs\n",
    "csvpath = Path(\"Resources/budget_data.csv\")"
   ]
  },
  {
   "cell_type": "code",
   "execution_count": 23,
   "id": "virgin-brooks",
   "metadata": {},
   "outputs": [],
   "source": [
    "# Initialize financial parameters\n",
    "total_months = 0\n",
    "total_net = 0\n",
    "net_change_list = []\n",
    "month_of_change = []\n",
    "greatest_increase = ['', 0]\n",
    "greatest_decrease = ['', 0]"
   ]
  },
  {
   "cell_type": "code",
   "execution_count": 28,
   "id": "working-parish",
   "metadata": {},
   "outputs": [
    {
     "name": "stdout",
     "output_type": "stream",
     "text": [
      "<class '_io.TextIOWrapper'>\n"
     ]
    }
   ],
   "source": [
    "# Open the file in \"read\" mode and\n",
    "# store the contents in the variable 'csvfile'\n",
    "with open(csvpath) as csvfile:\n",
    "    \n",
    "    # Print the datatype of the file object\n",
    "    print(type(csvfile))\n",
    "    \n",
    "    # Pass in the csv file to the csv.reader() function\n",
    "    csvreader = csv.reader(csvfile)\n",
    "    \n",
    "    # Fetches next rows and excludes header\n",
    "    header = next(csvreader)\n",
    "    first_row = next(csvreader)\n",
    "    \n",
    "    # Set total months variable and exlude header row\n",
    "    total_months = total_months + 1\n",
    "    \n",
    "    # Set total net variable and exlude header row\n",
    "    total_net = total_net + int(first_row[1])\n",
    "    \n",
    "    # Set previous net variable and exlude header row\n",
    "    prev_net = int(first_row[1])\n",
    "    \n",
    "    for line in csvreader:\n",
    "        \n",
    "        # Calculate total months\n",
    "        total_months = total_months + 1\n",
    "        \n",
    "        # Calculate total net\n",
    "        total_net = total_net + int(line[1])\n",
    "\n",
    "        # Calculate the net change\n",
    "        net_change = int(line[1]) - prev_net\n",
    "        prev_net = int(line[1])\n",
    "        \n",
    "        # List of net changes over the entire period\n",
    "        net_change_list += [net_change]\n",
    "\n",
    "        # Calculate the greatest increase (date and amount)\n",
    "        if net_change > greatest_increase[1]:\n",
    "            greatest_increase[0] = line[0]\n",
    "            greatest_increase[1] = net_change\n",
    "\n",
    "        # Calculate the greatest decrease (date and amount)\n",
    "        if net_change < greatest_decrease[1]:\n",
    "            greatest_decrease[0] = line[0]\n",
    "            greatest_decrease[1] = net_change\n"
   ]
  },
  {
   "cell_type": "code",
   "execution_count": 29,
   "id": "naval-bridal",
   "metadata": {},
   "outputs": [],
   "source": [
    "# Calculate average of the changes in Profit/Losses over the entire period\n",
    "net_monthly_avg = round(sum(net_change_list) / len(net_change_list), 2)"
   ]
  },
  {
   "cell_type": "code",
   "execution_count": 30,
   "id": "modular-williams",
   "metadata": {},
   "outputs": [],
   "source": [
    "# Set output file name\n",
    "budget_analysis_file = Path(\"analysis/budget_analysis.txt\")"
   ]
  },
  {
   "cell_type": "code",
   "execution_count": 31,
   "id": "danish-rubber",
   "metadata": {},
   "outputs": [],
   "source": [
    "# Write into a text file\n",
    "with open(budget_analysis_file, \"w\") as txt_file:\n",
    "    txt_file.write(f\"Financial Analysis\\n\")\n",
    "    txt_file.write(f\"----------------------------\\n\")\n",
    "    txt_file.write(f\"Total Months: {total_months}\\n\")\n",
    "    txt_file.write(f\"Total: ${total_net}\\n\")\n",
    "    txt_file.write(f\"Average  Change: ${net_monthly_avg}\\n\")\n",
    "    txt_file.write(f\"Greatest Increase in Profits: {greatest_increase[0]} (${greatest_increase[1]})\\n\")\n",
    "    txt_file.write(f\"Greatest Decrease in Profits: {greatest_decrease[0]} (${greatest_decrease[1]})\\n\")\n"
   ]
  },
  {
   "cell_type": "code",
   "execution_count": null,
   "id": "nearby-polls",
   "metadata": {},
   "outputs": [],
   "source": []
  }
 ],
 "metadata": {
  "kernelspec": {
   "display_name": "Python 3",
   "language": "python",
   "name": "python3"
  },
  "language_info": {
   "codemirror_mode": {
    "name": "ipython",
    "version": 3
   },
   "file_extension": ".py",
   "mimetype": "text/x-python",
   "name": "python",
   "nbconvert_exporter": "python",
   "pygments_lexer": "ipython3",
   "version": "3.7.7"
  }
 },
 "nbformat": 4,
 "nbformat_minor": 5
}
